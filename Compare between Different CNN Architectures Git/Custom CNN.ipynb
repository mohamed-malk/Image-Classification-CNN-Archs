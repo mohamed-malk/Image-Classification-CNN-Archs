{
 "cells": [
  {
   "cell_type": "code",
   "execution_count": 15,
   "id": "085a3c4a",
   "metadata": {},
   "outputs": [],
   "source": [
    "import winsound\n",
    "import os\n",
    "\n",
    "import numpy as np\n",
    "from sklearn.metrics import confusion_matrix, ConfusionMatrixDisplay\\\n",
    "                          , auc, accuracy_score, classification_report\n",
    "\n",
    "import matplotlib.pyplot as py\n",
    "import tensorflow as tf\n",
    "from tensorflow.keras import layers\n",
    "from keras.preprocessing.image import ImageDataGenerator\n",
    "from keras.applications.resnet import ResNet50\n",
    "from keras.applications.vgg16 import VGG16\n",
    "from keras.applications.efficientnet import EfficientNetB7\n",
    "from keras.applications.inception_resnet_v2 import InceptionResNetV2\n",
    "\n",
    "import keras_tuner\n",
    "from kerastuner.tuners import RandomSearch"
   ]
  },
  {
   "cell_type": "code",
   "execution_count": 2,
   "id": "97504c3c",
   "metadata": {},
   "outputs": [],
   "source": [
    "gpus = tf.config.experimental.list_physical_devices('GPU')\n",
    "for gpu in gpus:\n",
    "    tf.config.experimental.set_memory_growth(gpu, True)\n",
    "    pass"
   ]
  },
  {
   "cell_type": "code",
   "execution_count": 3,
   "id": "287f72aa",
   "metadata": {},
   "outputs": [],
   "source": [
    "image_size = (299, 299) # must tuple of 3D for keras\n",
    "seed = 45\n",
    "path = \"DataSet-Handle/\""
   ]
  },
  {
   "cell_type": "code",
   "execution_count": 4,
   "id": "8de1aad5",
   "metadata": {},
   "outputs": [
    {
     "name": "stdout",
     "output_type": "stream",
     "text": [
      "Found 30482 images belonging to 4 classes.\n",
      "Found 10246 images belonging to 4 classes.\n",
      "Found 8215 images belonging to 4 classes.\n"
     ]
    }
   ],
   "source": [
    "# Load Images and make augmentation \n",
    "datagen = ImageDataGenerator(rescale=1./255, shear_range=0.2, \n",
    "                             zoom_range=0.2, horizontal_flip=True) \n",
    "\n",
    "# loading...\n",
    "train_it = datagen.flow_from_directory(path + \"Train\", class_mode='categorical', seed=seed, \n",
    "              color_mode='grayscale', target_size = image_size)\n",
    "\n",
    "valid_it = datagen.flow_from_directory(path + \"Validation\", class_mode='categorical', seed=seed, \n",
    "              color_mode='grayscale', target_size = image_size)\n",
    "\n",
    "test_it = datagen.flow_from_directory(path + \"Test\", class_mode='categorical', seed=seed, \n",
    "              color_mode='grayscale', target_size = image_size)"
   ]
  },
  {
   "cell_type": "code",
   "execution_count": null,
   "id": "79896813",
   "metadata": {},
   "outputs": [],
   "source": []
  },
  {
   "cell_type": "markdown",
   "id": "b93b3e82",
   "metadata": {},
   "source": [
    "class Patches(layers.Layer):\n",
    "    def __init__(self, patch_size):\n",
    "        super(Patches, self).__init__()\n",
    "        self.patch_size = patch_size\n",
    "\n",
    "    def call(self, images):\n",
    "        batch_size = tf.shape(images)[0]\n",
    "        patches = tf.image.extract_patches(\n",
    "            images=images,\n",
    "            sizes=[1, self.patch_size, self.patch_size, 1],\n",
    "            strides=[1, self.patch_size, self.patch_size, 1],\n",
    "            rates=[1, 1, 1, 1],\n",
    "            padding=\"VALID\",\n",
    "        )\n",
    "        patch_dims = patches.shape[-1]\n",
    "        patches = tf.reshape(patches, [batch_size, -1, patch_dims])\n",
    "        return patches"
   ]
  },
  {
   "cell_type": "markdown",
   "id": "4189d988",
   "metadata": {},
   "source": [
    "class PatchEncoder(layers.Layer):\n",
    "    def __init__(self, num_patches, projection_dim):\n",
    "        super(PatchEncoder, self).__init__()\n",
    "        self.num_patches = num_patches\n",
    "        self.projection = layers.Dense(units=projection_dim)\n",
    "        self.position_embedding = layers.Embedding(\n",
    "            input_dim=num_patches, output_dim=projection_dim\n",
    "        )\n",
    "\n",
    "    def call(self, patch):\n",
    "        positions = tf.range(start=0, limit=self.num_patches, delta=1)\n",
    "        encoded = self.projection(patch) + self.position_embedding(positions)\n",
    "        return encoded"
   ]
  },
  {
   "cell_type": "code",
   "execution_count": 10,
   "id": "4d17f88e",
   "metadata": {},
   "outputs": [],
   "source": [
    "def build_model(): \n",
    "    inputs = tf.keras.Input(shape= image_size + (1,))\n",
    "    \n",
    "    x = layers.BatchNormalization()(inputs)\n",
    "    \n",
    "    x = layers.Conv2D(16,5)(x)\n",
    "    x = layers.Activation(tf.nn.relu)(x)\n",
    "    x = layers.MaxPooling2D((4,4))(x)\n",
    "    x = layers.Rescaling(1./255)(x)\n",
    "    \n",
    "    x = layers.Conv2D(16,5)(inputs)\n",
    "    x = layers.Activation(tf.nn.relu)(x)\n",
    "    x = layers.MaxPooling2D((2,2))(x)\n",
    "    x = layers.Rescaling(1./255)(x)\n",
    "    \n",
    "    x = layers.Conv2D(8,5)(inputs)\n",
    "    x = layers.Activation(tf.nn.relu)(x)\n",
    "    x = layers.MaxPooling2D((4,4))(x)\n",
    "    x = layers.Rescaling(1./255)(x)\n",
    "    \n",
    "    x = layers.Flatten()(x)\n",
    "    \n",
    "    x = layers.Dropout(0.3)(x)\n",
    "    x = layers.Dense(512, activation=tf.nn.gelu)(x)\n",
    "    x = layers.Dropout(0.3)(x)\n",
    "    x = layers.Dense(256, activation=tf.nn.gelu)(x)\n",
    "    x = layers.Dropout(0.3)(x)   \n",
    "    x = layers.Dense(128, activation=tf.nn.gelu)(x)\n",
    "    x = layers.Dropout(0.3)(x)\n",
    "    x = layers.Dense(64, activation=tf.nn.gelu)(x)\n",
    "    x = layers.Dropout(0.3)(x)\n",
    "    x = layers.Dense(8, activation=tf.nn.gelu)(x)\n",
    "    x = layers.Dropout(0.3)(x)\n",
    "    \n",
    "    output = layers.Dense(4, activation=tf.nn.gelu)(x)\n",
    "\n",
    "    model = tf.keras.Model(inputs, output)\n",
    "    \n",
    "    model.compile(\n",
    "        optimizer= tf.keras.optimizers.SGD(0.01),\n",
    "        loss= tf.keras.losses.CategoricalCrossentropy(),\n",
    "        metrics= [tf.keras.metrics.CategoricalAccuracy(), \n",
    "                  tf.keras.metrics.AUC()])\n",
    "    \n",
    "    return model"
   ]
  },
  {
   "cell_type": "code",
   "execution_count": 11,
   "id": "7d771cc4",
   "metadata": {},
   "outputs": [],
   "source": [
    "model = build_model()"
   ]
  },
  {
   "cell_type": "code",
   "execution_count": 12,
   "id": "6eacb0a1",
   "metadata": {},
   "outputs": [
    {
     "name": "stdout",
     "output_type": "stream",
     "text": [
      "Model: \"model\"\n",
      "_________________________________________________________________\n",
      " Layer (type)                Output Shape              Param #   \n",
      "=================================================================\n",
      " input_2 (InputLayer)        [(None, 299, 299, 1)]     0         \n",
      "                                                                 \n",
      " conv2d_5 (Conv2D)           (None, 295, 295, 8)       208       \n",
      "                                                                 \n",
      " activation_5 (Activation)   (None, 295, 295, 8)       0         \n",
      "                                                                 \n",
      " max_pooling2d_5 (MaxPooling  (None, 73, 73, 8)        0         \n",
      " 2D)                                                             \n",
      "                                                                 \n",
      " rescaling_5 (Rescaling)     (None, 73, 73, 8)         0         \n",
      "                                                                 \n",
      " flatten_1 (Flatten)         (None, 42632)             0         \n",
      "                                                                 \n",
      " dropout_1 (Dropout)         (None, 42632)             0         \n",
      "                                                                 \n",
      " dense_1 (Dense)             (None, 512)               21828096  \n",
      "                                                                 \n",
      " dropout_2 (Dropout)         (None, 512)               0         \n",
      "                                                                 \n",
      " dense_2 (Dense)             (None, 256)               131328    \n",
      "                                                                 \n",
      " dropout_3 (Dropout)         (None, 256)               0         \n",
      "                                                                 \n",
      " dense_3 (Dense)             (None, 128)               32896     \n",
      "                                                                 \n",
      " dropout_4 (Dropout)         (None, 128)               0         \n",
      "                                                                 \n",
      " dense_4 (Dense)             (None, 64)                8256      \n",
      "                                                                 \n",
      " dropout_5 (Dropout)         (None, 64)                0         \n",
      "                                                                 \n",
      " dense_5 (Dense)             (None, 8)                 520       \n",
      "                                                                 \n",
      " dropout_6 (Dropout)         (None, 8)                 0         \n",
      "                                                                 \n",
      " dense_6 (Dense)             (None, 4)                 36        \n",
      "                                                                 \n",
      "=================================================================\n",
      "Total params: 22,001,340\n",
      "Trainable params: 22,001,340\n",
      "Non-trainable params: 0\n",
      "_________________________________________________________________\n"
     ]
    }
   ],
   "source": [
    "model.summary()"
   ]
  },
  {
   "cell_type": "code",
   "execution_count": 13,
   "id": "3ee96cdf",
   "metadata": {},
   "outputs": [
    {
     "name": "stderr",
     "output_type": "stream",
     "text": [
      "C:\\Users\\ABO ELKHEIR\\AppData\\Local\\Temp\\ipykernel_2372\\2859859429.py:1: UserWarning: `Model.fit_generator` is deprecated and will be removed in a future version. Please use `Model.fit`, which supports generators.\n",
      "  hist = model.fit_generator(train_it, epochs=5, steps_per_epoch=5,validation_data=valid_it)\n"
     ]
    },
    {
     "name": "stdout",
     "output_type": "stream",
     "text": [
      "Epoch 1/5\n",
      "5/5 [==============================] - 342s 84s/step - loss: 3.4686 - categorical_accuracy: 0.2875 - auc: 0.5068 - val_loss: 1.8179 - val_categorical_accuracy: 0.2522 - val_auc: 0.5000\n",
      "Epoch 2/5\n",
      "5/5 [==============================] - 87s 21s/step - loss: 2.5514 - categorical_accuracy: 0.2250 - auc: 0.5051 - val_loss: 1.6471 - val_categorical_accuracy: 0.2522 - val_auc: 0.5000\n",
      "Epoch 3/5\n",
      "5/5 [==============================] - 88s 22s/step - loss: 1.7784 - categorical_accuracy: 0.2313 - auc: 0.5167 - val_loss: 1.6277 - val_categorical_accuracy: 0.2522 - val_auc: 0.5000\n",
      "Epoch 4/5\n",
      "5/5 [==============================] - 97s 24s/step - loss: 2.4179 - categorical_accuracy: 0.2500 - auc: 0.4979 - val_loss: 1.6114 - val_categorical_accuracy: 0.2522 - val_auc: 0.5000\n",
      "Epoch 5/5\n",
      "5/5 [==============================] - 89s 22s/step - loss: 2.1830 - categorical_accuracy: 0.2740 - auc: 0.5114 - val_loss: 1.5974 - val_categorical_accuracy: 0.2522 - val_auc: 0.5000\n"
     ]
    }
   ],
   "source": [
    "hist = model.fit_generator(train_it, epochs=5, steps_per_epoch=5,validation_data=valid_it)"
   ]
  },
  {
   "cell_type": "code",
   "execution_count": 17,
   "id": "1930b22c",
   "metadata": {},
   "outputs": [
    {
     "data": {
      "text/plain": [
       "[<matplotlib.lines.Line2D at 0x1e8d18ca160>]"
      ]
     },
     "execution_count": 17,
     "metadata": {},
     "output_type": "execute_result"
    },
    {
     "data": {
      "image/png": "[encoded data removed]",
      "text/plain": [
       "<Figure size 432x288 with 1 Axes>"
      ]
     },
     "metadata": {
      "needs_background": "light"
     },
     "output_type": "display_data"
    }
   ],
   "source": [
    "py.plot(hist.history['auc'])"
   ]
  },
  {
   "cell_type": "code",
   "execution_count": 19,
   "id": "ab0169f0",
   "metadata": {},
   "outputs": [
    {
     "data": {
      "text/plain": [
       "[<matplotlib.lines.Line2D at 0x1e8d235a190>]"
      ]
     },
     "execution_count": 19,
     "metadata": {},
     "output_type": "execute_result"
    },
    {
     "data": {
      "image/png": "[encoded data removed]",
      "text/plain": [
       "<Figure size 432x288 with 1 Axes>"
      ]
     },
     "metadata": {
      "needs_background": "light"
     },
     "output_type": "display_data"
    }
   ],
   "source": [
    "py.plot(hist.history['categorical_accuracy'])"
   ]
  },
  {
   "cell_type": "code",
   "execution_count": 20,
   "id": "87155fb3",
   "metadata": {
    "scrolled": true
   },
   "outputs": [
    {
     "name": "stderr",
     "output_type": "stream",
     "text": [
      "C:\\Users\\ABO ELKHEIR\\AppData\\Local\\Temp\\ipykernel_2372\\345970593.py:1: UserWarning: `Model.evaluate_generator` is deprecated and will be removed in a future version. Please use `Model.evaluate`, which supports generators.\n",
      "  model.evaluate_generator(valid_it)\n"
     ]
    },
    {
     "data": {
      "text/plain": [
       "[1.597363829612732, 0.25219598412513733, 0.5]"
      ]
     },
     "execution_count": 20,
     "metadata": {},
     "output_type": "execute_result"
    }
   ],
   "source": [
    "model.evaluate_generator(valid_it)"
   ]
  },
  {
   "cell_type": "code",
   "execution_count": 21,
   "id": "17211be8",
   "metadata": {
    "scrolled": true
   },
   "outputs": [
    {
     "name": "stderr",
     "output_type": "stream",
     "text": [
      "C:\\Users\\ABO ELKHEIR\\AppData\\Local\\Temp\\ipykernel_2372\\385855088.py:1: UserWarning: `Model.evaluate_generator` is deprecated and will be removed in a future version. Please use `Model.evaluate`, which supports generators.\n",
      "  model.evaluate_generator(test_it)\n"
     ]
    },
    {
     "data": {
      "text/plain": [
       "[1.5978889465332031, 0.25429093837738037, 0.5]"
      ]
     },
     "execution_count": 21,
     "metadata": {},
     "output_type": "execute_result"
    }
   ],
   "source": [
    "model.evaluate_generator(test_it)"
   ]
  },
  {
   "cell_type": "code",
   "execution_count": 22,
   "id": "62f5a56b",
   "metadata": {},
   "outputs": [
    {
     "name": "stderr",
     "output_type": "stream",
     "text": [
      "C:\\Users\\ABO ELKHEIR\\AppData\\Local\\Temp\\ipykernel_2372\\2057135174.py:1: UserWarning: `Model.predict_generator` is deprecated and will be removed in a future version. Please use `Model.predict`, which supports generators.\n",
      "  model_pre = model.predict_generator(test_it)\n"
     ]
    },
    {
     "name": "stdout",
     "output_type": "stream",
     "text": [
      "Classification Report :                precision    recall  f1-score   support\n",
      "\n",
      "           0       0.00      0.00      0.00      2026\n",
      "           1       0.00      0.00      0.00      2089\n",
      "           2       0.25      1.00      0.41      2089\n",
      "           3       0.00      0.00      0.00      2011\n",
      "\n",
      "    accuracy                           0.25      8215\n",
      "   macro avg       0.06      0.25      0.10      8215\n",
      "weighted avg       0.06      0.25      0.10      8215\n",
      "\n",
      "Accuracy :  0.2542909312233719\n"
     ]
    },
    {
     "name": "stderr",
     "output_type": "stream",
     "text": [
      "C:\\ProgramData\\Anaconda3\\envs\\gpu2\\lib\\site-packages\\sklearn\\metrics\\_classification.py:1334: UndefinedMetricWarning: Precision and F-score are ill-defined and being set to 0.0 in labels with no predicted samples. Use `zero_division` parameter to control this behavior.\n",
      "  _warn_prf(average, modifier, msg_start, len(result))\n",
      "C:\\ProgramData\\Anaconda3\\envs\\gpu2\\lib\\site-packages\\sklearn\\metrics\\_classification.py:1334: UndefinedMetricWarning: Precision and F-score are ill-defined and being set to 0.0 in labels with no predicted samples. Use `zero_division` parameter to control this behavior.\n",
      "  _warn_prf(average, modifier, msg_start, len(result))\n",
      "C:\\ProgramData\\Anaconda3\\envs\\gpu2\\lib\\site-packages\\sklearn\\metrics\\_classification.py:1334: UndefinedMetricWarning: Precision and F-score are ill-defined and being set to 0.0 in labels with no predicted samples. Use `zero_division` parameter to control this behavior.\n",
      "  _warn_prf(average, modifier, msg_start, len(result))\n"
     ]
    },
    {
     "data": {
      "text/plain": [
       "<sklearn.metrics._plot.confusion_matrix.ConfusionMatrixDisplay at 0x1e8d2601850>"
      ]
     },
     "execution_count": 22,
     "metadata": {},
     "output_type": "execute_result"
    },
    {
     "data": {
      "image/png": "[encoded data removed]",
      "text/plain": [
       "<Figure size 432x288 with 2 Axes>"
      ]
     },
     "metadata": {
      "needs_background": "light"
     },
     "output_type": "display_data"
    }
   ],
   "source": [
    "model_pre = model.predict_generator(test_it)\n",
    "\n",
    "model_pre = [np.argmax(i) for i in model_pre]\n",
    "print(\"Classification Report : \", classification_report(test_it.classes, model_pre))\n",
    "print(\"Accuracy : \", accuracy_score(test_it.classes, model_pre))\n",
    "ConfusionMatrixDisplay(confusion_matrix(test_it.classes, model_pre)).plot()"
   ]
  }
 ],
 "metadata": {
  "kernelspec": {
   "display_name": "Python 3 (ipykernel)",
   "language": "python",
   "name": "python3"
  },
  "language_info": {
   "codemirror_mode": {
    "name": "ipython",
    "version": 3
   },
   "file_extension": ".py",
   "mimetype": "text/x-python",
   "name": "python",
   "nbconvert_exporter": "python",
   "pygments_lexer": "ipython3",
   "version": "3.9.13"
  }
 },
 "nbformat": 4,
 "nbformat_minor": 5
}
